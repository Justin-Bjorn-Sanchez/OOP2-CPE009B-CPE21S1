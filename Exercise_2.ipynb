{
  "nbformat": 4,
  "nbformat_minor": 0,
  "metadata": {
    "colab": {
      "provenance": [],
      "authorship_tag": "ABX9TyOUh4wfmYyr42Qn2OEeAM5X",
      "include_colab_link": true
    },
    "kernelspec": {
      "name": "python3",
      "display_name": "Python 3"
    },
    "language_info": {
      "name": "python"
    }
  },
  "cells": [
    {
      "cell_type": "markdown",
      "metadata": {
        "id": "view-in-github",
        "colab_type": "text"
      },
      "source": [
        "<a href=\"https://colab.research.google.com/github/Justin-Bjorn-Sanchez/OOP2-CPE009B-CPE21S1/blob/main/Exercise_2.ipynb\" target=\"_parent\"><img src=\"https://colab.research.google.com/assets/colab-badge.svg\" alt=\"Open In Colab\"/></a>"
      ]
    },
    {
      "cell_type": "code",
      "execution_count": 23,
      "metadata": {
        "colab": {
          "base_uri": "https://localhost:8080/"
        },
        "id": "bZpqxCQiSKGe",
        "outputId": "45d5847d-bd0b-4659-d2c6-621fb393c810"
      },
      "outputs": [
        {
          "name": "stdout",
          "output_type": "stream",
          "text": [
            "enter your grade (or 'q' to quit): 1\n",
            "failed\n",
            "enter your grade (or 'q' to quit): 101\n",
            "invalid grade\n",
            "enter your grade (or 'q' to quit): 74\n",
            "Remedial\n",
            "enter your grade (or 'q' to quit): -20\n",
            "invalid grade\n",
            "enter your grade (or 'q' to quit): 90\n",
            "Passed\n",
            "enter your grade (or 'q' to quit): q\n"
          ]
        }
      ],
      "source": [
        "while True:\n",
        "  grade = input(\"enter your grade (or 'q' to quit): \")\n",
        "  if grade == 'q':\n",
        "    break\n",
        "  grade = float(grade)\n",
        "\n",
        "  if grade > 100 or grade < 0:\n",
        "    print(\"invalid grade\")\n",
        "  elif grade >= 75:\n",
        "    print(\"Passed\")\n",
        "  elif grade == 74:\n",
        "    print(\"Remedial\")\n",
        "  else:\n",
        "    print(\"failed\")\n",
        ""
      ]
    }
  ]
}