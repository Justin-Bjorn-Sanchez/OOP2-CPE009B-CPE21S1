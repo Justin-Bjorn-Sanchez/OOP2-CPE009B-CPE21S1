{
  "nbformat": 4,
  "nbformat_minor": 0,
  "metadata": {
    "colab": {
      "provenance": [],
      "authorship_tag": "ABX9TyOF/0+xoT5Z4EuvpzUfmhXG",
      "include_colab_link": true
    },
    "kernelspec": {
      "name": "python3",
      "display_name": "Python 3"
    },
    "language_info": {
      "name": "python"
    }
  },
  "cells": [
    {
      "cell_type": "markdown",
      "metadata": {
        "id": "view-in-github",
        "colab_type": "text"
      },
      "source": [
        "<a href=\"https://colab.research.google.com/github/Justin-Bjorn-Sanchez/OOP2-CPE009B-CPE21S1/blob/main/Exercise_3.ipynb\" target=\"_parent\"><img src=\"https://colab.research.google.com/assets/colab-badge.svg\" alt=\"Open In Colab\"/></a>"
      ]
    },
    {
      "cell_type": "markdown",
      "source": [
        "Write a Python program that has\n",
        "1. class Rectangle\n",
        "2. attributes length and width\n",
        "3. Perimeter () method to compute for the perimeter; and\n",
        "4. Area() method to compute for the area\n"
      ],
      "metadata": {
        "id": "PdWUvZXKZ_wC"
      }
    },
    {
      "cell_type": "code",
      "execution_count": 2,
      "metadata": {
        "colab": {
          "base_uri": "https://localhost:8080/"
        },
        "id": "GVGf-OWDZeQQ",
        "outputId": "fe71b4fb-61c0-4132-e009-2487fef9f0df"
      },
      "outputs": [
        {
          "output_type": "stream",
          "name": "stdout",
          "text": [
            "Enter  width of rectangle:20\n",
            "Enter length of rectangle:20\n",
            "Area of rectangle is: 400.0\n",
            "Perimeter of rectangle is: 80.0\n"
          ]
        }
      ],
      "source": [
        "class Rectangle:\n",
        "  def __init__(self, width, length):\n",
        "      self.width = width\n",
        "      self.length = length\n",
        "\n",
        "  def area(self):\n",
        "      return self.width * self.length\n",
        "\n",
        "  def perimeter(self):\n",
        "      return 2 * (self.width + self.length)\n",
        "\n",
        "width = float(input(\"Enter  width of rectangle:\"))\n",
        "length = float(input(\"Enter length of rectangle:\"))\n",
        "\n",
        "rectangle = Rectangle(width, length)\n",
        "area = rectangle.area()\n",
        "perimeter = rectangle.perimeter()\n",
        "\n",
        "print(\"Area of rectangle is:\", area)\n",
        "print(\"Perimeter of rectangle is:\", perimeter)"
      ]
    }
  ]
}