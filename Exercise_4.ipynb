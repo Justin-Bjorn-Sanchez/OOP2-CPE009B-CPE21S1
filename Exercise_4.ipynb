{
  "nbformat": 4,
  "nbformat_minor": 0,
  "metadata": {
    "colab": {
      "provenance": [],
      "authorship_tag": "ABX9TyMKMwsoOU+BAYB7nZmtXbQL",
      "include_colab_link": true
    },
    "kernelspec": {
      "name": "python3",
      "display_name": "Python 3"
    },
    "language_info": {
      "name": "python"
    }
  },
  "cells": [
    {
      "cell_type": "markdown",
      "metadata": {
        "id": "view-in-github",
        "colab_type": "text"
      },
      "source": [
        "<a href=\"https://colab.research.google.com/github/Justin-Bjorn-Sanchez/OOP2-CPE009B-CPE21S1/blob/main/Exercise_4.ipynb\" target=\"_parent\"><img src=\"https://colab.research.google.com/assets/colab-badge.svg\" alt=\"Open In Colab\"/></a>"
      ]
    },
    {
      "cell_type": "markdown",
      "source": [
        "**Example 1**"
      ],
      "metadata": {
        "id": "lsE2ZbDwPKwB"
      }
    },
    {
      "cell_type": "code",
      "execution_count": 7,
      "metadata": {
        "colab": {
          "base_uri": "https://localhost:8080/"
        },
        "id": "o6_TfqFjKtnS",
        "outputId": "eaf779db-5a53-4f46-b1b4-48e65ab02f2d"
      },
      "outputs": [
        {
          "output_type": "stream",
          "name": "stdout",
          "text": [
            "7\n"
          ]
        }
      ],
      "source": [
        "class foo:\n",
        "  def __init__(self,a,b):\n",
        "    self.a=a\n",
        "    self.b=b\n",
        "  def add(self):\n",
        "    print(self.a+self.b)\n",
        "\n",
        "foo_object_1=foo(3,4)\n",
        "foo_object_1.add()"
      ]
    },
    {
      "cell_type": "markdown",
      "source": [
        "**Incorrect**"
      ],
      "metadata": {
        "id": "S9W4OESmPNvI"
      }
    },
    {
      "cell_type": "code",
      "source": [
        "class Person:\n",
        "  def __init__(self,name,age):\n",
        "    self.name=name\n",
        "    self.age=age\n",
        "\n",
        "  def myfunc(self):\n",
        "    print(\"Hello my name is \" + (self.name) + \" and my age is \" + str(self.age))\n",
        "\n",
        "p1=Person(\"JOROSSS!\",69)\n",
        "p1.myfunc()"
      ],
      "metadata": {
        "colab": {
          "base_uri": "https://localhost:8080/"
        },
        "id": "jH1XeXs4N1nB",
        "outputId": "b3fdb58a-5a89-4365-8510-28e86fcf4de4"
      },
      "execution_count": 13,
      "outputs": [
        {
          "output_type": "stream",
          "name": "stdout",
          "text": [
            "Hello my name is JOROSSS!!! and my age is 69\n"
          ]
        }
      ]
    },
    {
      "cell_type": "markdown",
      "source": [
        "**Example 2**"
      ],
      "metadata": {
        "id": "5W6QbwSMPoip"
      }
    },
    {
      "cell_type": "code",
      "source": [
        "class Counter:\n",
        "   def __init__(self):\n",
        "      self.current = 0\n",
        "   def increment(self):\n",
        "      self.current += 1\n",
        "   def value(self):\n",
        "      return self.current\n",
        "   def reset(self):\n",
        "      self.current = 0\n",
        "\n",
        "counter = Counter()\n",
        "counter.increment()\n",
        "counter.increment()\n",
        "counter.increment()\n",
        "print(counter.value())\n",
        "counter.reset()\n",
        "print(counter.value())"
      ],
      "metadata": {
        "colab": {
          "base_uri": "https://localhost:8080/"
        },
        "id": "K_wYnAr3PJQ6",
        "outputId": "c1719bbc-12cc-435d-8e58-3b85332ac7e7"
      },
      "execution_count": 18,
      "outputs": [
        {
          "output_type": "stream",
          "name": "stdout",
          "text": [
            "3\n",
            "0\n"
          ]
        }
      ]
    },
    {
      "cell_type": "markdown",
      "source": [
        "**Example 3**"
      ],
      "metadata": {
        "id": "0sVY6lQ4Rzca"
      }
    },
    {
      "cell_type": "code",
      "source": [
        "class RegularPolygon:\n",
        "  def __init__(self, side):\n",
        "    self.side = side\n",
        "\n",
        "class Square(RegularPolygon):\n",
        "  def area(self):\n",
        "    return self.side**2\n",
        "\n",
        "class EquilateralTriangle(RegularPolygon):\n",
        "  def area(self):\n",
        "    return (0.433)*(self.side**2)\n",
        "\n",
        "\n",
        "square = Square(5)\n",
        "print(square.area())\n",
        "equilateral_triangle = EquilateralTriangle(3)\n",
        "print(equilateral_triangle.area())"
      ],
      "metadata": {
        "colab": {
          "base_uri": "https://localhost:8080/"
        },
        "id": "mGNUcwqCRy3S",
        "outputId": "027cd756-fadd-4f4d-eb3b-6e4168e9335c"
      },
      "execution_count": 23,
      "outputs": [
        {
          "output_type": "stream",
          "name": "stdout",
          "text": [
            "25\n",
            "3.897\n"
          ]
        }
      ]
    },
    {
      "cell_type": "markdown",
      "source": [
        "**Application 1**"
      ],
      "metadata": {
        "id": "QXmLsdctS15p"
      }
    },
    {
      "cell_type": "code",
      "source": [
        "class Person:\n",
        "    def __init__(self, std1, std2, std3, Prelims, Midterms, Finals):\n",
        "        self.std1 = std1\n",
        "        self.std2 = std2\n",
        "        self.std3 = std3\n",
        "        self._Prelims = Prelims\n",
        "        self._Midterms = Midterms\n",
        "        self._Finals = Finals\n",
        "\n",
        "    def Grade(self):\n",
        "        for i in range(3):\n",
        "            Prelims_avg = self._Prelims[i]\n",
        "            Midterms_avg = self._Midterms[i]\n",
        "            Finals_avg = self._Finals[i]\n",
        "            average = (Prelims_avg + Midterms_avg + Finals_avg) / 3\n",
        "            print(f\"Student {i+1}: Prelims: {Prelims_avg}, Midterms: {Midterms_avg}, Finals: {Finals_avg}, Average: {average:.2f}\")\n",
        "\n",
        "std1 = \"Student 1\"\n",
        "std2 = \"Student 2\"\n",
        "std3 = \"Student 3\"\n",
        "Prelims = [85, 90, 78]\n",
        "Midterms = [88, 92, 85]\n",
        "Finals = [90, 95, 88]\n",
        "\n",
        "person = Person(std1, std2, std3, Prelims, Midterms, Finals)\n",
        "\n",
        "person.Grade()"
      ],
      "metadata": {
        "colab": {
          "base_uri": "https://localhost:8080/"
        },
        "id": "a5j8QGAOS4Lp",
        "outputId": "0af8b0af-7238-4756-e5fe-9397486c7dc8"
      },
      "execution_count": 28,
      "outputs": [
        {
          "output_type": "stream",
          "name": "stdout",
          "text": [
            "Student 1: Prelims: 85, Midterms: 88, Finals: 90, Average: 87.67\n",
            "Student 2: Prelims: 90, Midterms: 92, Finals: 95, Average: 92.33\n",
            "Student 3: Prelims: 78, Midterms: 85, Finals: 88, Average: 83.67\n"
          ]
        }
      ]
    }
  ]
}