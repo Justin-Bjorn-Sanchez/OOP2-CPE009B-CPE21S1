{
  "nbformat": 4,
  "nbformat_minor": 0,
  "metadata": {
    "colab": {
      "provenance": [],
      "authorship_tag": "ABX9TyMUN4iUHQWaEB1ZLS3fqMcc",
      "include_colab_link": true
    },
    "kernelspec": {
      "name": "python3",
      "display_name": "Python 3"
    },
    "language_info": {
      "name": "python"
    }
  },
  "cells": [
    {
      "cell_type": "markdown",
      "metadata": {
        "id": "view-in-github",
        "colab_type": "text"
      },
      "source": [
        "<a href=\"https://colab.research.google.com/github/Justin-Bjorn-Sanchez/OOP2-CPE009B-CPE21S1/blob/main/Exercise_5.ipynb\" target=\"_parent\"><img src=\"https://colab.research.google.com/assets/colab-badge.svg\" alt=\"Open In Colab\"/></a>"
      ]
    },
    {
      "cell_type": "markdown",
      "source": [
        "**Polymorphism**"
      ],
      "metadata": {
        "id": "NC0OqaZ6Q43N"
      }
    },
    {
      "cell_type": "code",
      "source": [
        "class Person:\n",
        "    def __init__(self, name, age):\n",
        "        self.name = name\n",
        "        self.age = age\n",
        "\n",
        "#Subclass of Person\n",
        "class Student(Person):\n",
        "  def traits(self):\n",
        "    return f\"study very very very hard\"\n",
        "\n",
        "#Subclass of Person\n",
        "class Teacher(Person):\n",
        "  def traits(self):\n",
        "    return f\"Teaching, Socializing, Participating\"\n",
        "\n",
        "Student = Student(\"Justin\",21)\n",
        "Teacher = Teacher(\"Maam Sayo\", 41)\n",
        "\n",
        "print(\"As a student, I do\" , Student.traits())\n",
        "print(\"As a teacher, I do\" , Teacher.traits())\n",
        "\n"
      ],
      "metadata": {
        "colab": {
          "base_uri": "https://localhost:8080/"
        },
        "id": "Fube7mWpQ8f9",
        "outputId": "2515861b-e5ae-4f79-ee61-c8025445772d"
      },
      "execution_count": 9,
      "outputs": [
        {
          "output_type": "stream",
          "name": "stdout",
          "text": [
            "As a student, I do study very very very hard\n",
            "As a teacher, I do Teaching, Socializing, Participating\n"
          ]
        }
      ]
    },
    {
      "cell_type": "markdown",
      "source": [
        "**Apply Polymorphism**"
      ],
      "metadata": {
        "id": "8ykpeKY6Q4Zh"
      }
    },
    {
      "cell_type": "code",
      "source": [
        "class League_Character:\n",
        "  def __init__(self, name, age):\n",
        "    self.name = name\n",
        "    self.age = age\n",
        "\n",
        "class Vastayan(League_Character):\n",
        "  def traits(self):\n",
        "    return f\"am the Boss.\"\n",
        "\n",
        "class Noxian(League_Character):\n",
        "  def traits(self):\n",
        "    return f\"do not tolerate cowardice\"\n",
        "\n",
        "class Demacian(League_Character):\n",
        "  def traits(self):\n",
        "    return f\"will give everything for Demacia!\"\n",
        "\n",
        "class Yordle(League_Character):\n",
        "  def traits(self):\n",
        "    return f\"am small but dont you underestiamte me\"\n",
        "\n",
        "Vastayan = Vastayan(\"Sett\", 20)\n",
        "Noxian = Noxian(\"Darius\",29)\n",
        "Demacian = Demacian(\"Garen\", 29)\n",
        "Yordle = Yordle(\"Teemo\", 12)\n",
        "\n",
        "print(\"I'm\",Vastayan.name,\"As a Vastayan, I\" , Vastayan.traits())\n",
        "print(\"I'm\",Noxian.name,\"As a Noxian, I\", Noxian.traits())\n",
        "print(\"I'm\",Demacian.name,\"As a Demacian,\", Demacian.traits())\n",
        "print(\"I'm\",Yordle.name,\"As a Yordle, I\", Yordle.traits())\n"
      ],
      "metadata": {
        "colab": {
          "base_uri": "https://localhost:8080/"
        },
        "id": "hj-wPM3xQ5Gh",
        "outputId": "9260b736-089e-4d39-9e45-c3b85ca2063e"
      },
      "execution_count": 26,
      "outputs": [
        {
          "output_type": "stream",
          "name": "stdout",
          "text": [
            "I'm Sett As a Vastayan, I am the Boss.\n",
            "I'm Darius As a Noxian, I do not tolerate cowardice\n",
            "I'm Garen As a Demacian, will give everything for Demacia!\n",
            "I'm Teemo As a Yordle, I am small but dont you underestiamte me\n"
          ]
        }
      ]
    },
    {
      "cell_type": "markdown",
      "source": [],
      "metadata": {
        "id": "HR-mPB2lQ5Tv"
      }
    },
    {
      "cell_type": "code",
      "source": [],
      "metadata": {
        "id": "WrCDppPcQ5hn"
      },
      "execution_count": null,
      "outputs": []
    }
  ]
}