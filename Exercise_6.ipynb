{
  "nbformat": 4,
  "nbformat_minor": 0,
  "metadata": {
    "colab": {
      "provenance": [],
      "authorship_tag": "ABX9TyN4jFAR5obm/M052ojhKuLp",
      "include_colab_link": true
    },
    "kernelspec": {
      "name": "python3",
      "display_name": "Python 3"
    },
    "language_info": {
      "name": "python"
    }
  },
  "cells": [
    {
      "cell_type": "markdown",
      "metadata": {
        "id": "view-in-github",
        "colab_type": "text"
      },
      "source": [
        "<a href=\"https://colab.research.google.com/github/Justin-Bjorn-Sanchez/OOP2-CPE009B-CPE21S1/blob/main/Exercise_6.ipynb\" target=\"_parent\"><img src=\"https://colab.research.google.com/assets/colab-badge.svg\" alt=\"Open In Colab\"/></a>"
      ]
    },
    {
      "cell_type": "code",
      "source": [
        "from tkinter import *\n",
        "\n",
        "class MyWindow:\n",
        "    def __init__(self, win):\n",
        "\n",
        "        win.config(bg = \"Orchid\")\n",
        "        self.Label1 = Label(win, bg = \"Orchid\", fg=\"Black\", text=\"Calculator\", font = (\"Times New Roman\",20))\n",
        "        self.Label1.place(x=80, y=10)\n",
        "\n",
        "        self.Label2 = Label(win, text=\"Number 1:\", font = (\"Times New Roman\",13))\n",
        "        self.Label2.place(x=60, y=50)\n",
        "\n",
        "        self.Entry1 = Entry(win, bd=5)\n",
        "        self.Entry1.place(x=140, y=50)\n",
        "\n",
        "        self.Label3 = Label(win, text=\"Number 2:\", font = (\"Times New Roman\",13))\n",
        "        self.Label3.place(x=60, y=100)\n",
        "\n",
        "        self.Entry2 = Entry(win, bd=5)\n",
        "        self.Entry2.place(x=140, y=100)\n",
        "\n",
        "        self.Label4 = Label(win, text=\"Result:\", font = (\"Times New Roman\",13))\n",
        "        self.Label4.place(x=60, y=150)\n",
        "\n",
        "        self.Entry3 = Entry(win, bd=5)\n",
        "        self.Entry3.place(x=140, y=150)\n",
        "\n",
        "        self.Button1 = Button(win, fg = \"Blue\", text = \"Add\", command=self.add)\n",
        "        self.Button1.place(x=50, y=200)\n",
        "        self.Button2 = Button(win, fg = \"Blue\", text = \"Subtract\", command=self.sub)\n",
        "        self.Button2.place(x=110, y=200)\n",
        "        self.Button3 = Button(win, fg = \"Blue\", text = \"Multiply\", command=self.mul)\n",
        "        self.Button3.place(x=185, y=200)\n",
        "        self.Button3 = Button(win, fg = \"Blue\", text = \"Divide\", command=self.div)\n",
        "        self.Button3.place(x=273, y=200)\n",
        "        self.Button4 = Button(win, fg = \"Blue\", text = \"Clear\", command=self.clear)\n",
        "        self.Button4.place(x=160, y=240)\n",
        "\n",
        "\n",
        "    def add (self):\n",
        "        self.Entry3.delete(0, 'end')\n",
        "        num1 = int(self.Entry1.get())\n",
        "        num2 = int(self.Entry2.get())\n",
        "        result = num1 + num2\n",
        "        self.Entry3.insert(END, str(result))\n",
        "\n",
        "    def sub (self):\n",
        "        self.Entry3.delete(0, 'end')\n",
        "        num1 = int(self.Entry1.get())\n",
        "        num2 = int(self.Entry2.get())\n",
        "        result = num1 - num2\n",
        "        self.Entry3.insert(END, str(result))\n",
        "\n",
        "    def mul (self):\n",
        "        self.Entry3.delete(0, 'end')\n",
        "        num1 = int(self.Entry1.get())\n",
        "        num2 = int(self.Entry2.get())\n",
        "        result = num1 * num2\n",
        "        self.Entry3.insert(END, str(result))\n",
        "\n",
        "    def div (self):\n",
        "        self.Entry3.delete(0, 'end')\n",
        "        num1 = int(self.Entry1.get())\n",
        "        num2 = int(self.Entry2.get())\n",
        "        result = num1 / num2\n",
        "        self.Entry3.insert(END, str(result))\n",
        "\n",
        "    def clear(self):\n",
        "        self.Entry1.delete(0, 'end')\n",
        "        self.Entry2.delete(0, 'end')\n",
        "        self.Entry3.delete(0, 'end')\n",
        "\n",
        "\n",
        "window = Tk()\n",
        "MyWin = MyWindow(window)\n",
        "\n",
        "window.geometry(\"400x300+10+10\")\n",
        "window.title(\"Standard Calculator\")\n",
        "window.mainloop()\n"
      ],
      "metadata": {
        "id": "m32-A5C3w5pD"
      },
      "execution_count": null,
      "outputs": []
    }
  ]
}