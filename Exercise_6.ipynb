{
  "nbformat": 4,
  "nbformat_minor": 0,
  "metadata": {
    "colab": {
      "provenance": [],
      "authorship_tag": "ABX9TyN/smhEx8bg31PR+HVhD006",
      "include_colab_link": true
    },
    "kernelspec": {
      "name": "python3",
      "display_name": "Python 3"
    },
    "language_info": {
      "name": "python"
    }
  },
  "cells": [
    {
      "cell_type": "markdown",
      "metadata": {
        "id": "view-in-github",
        "colab_type": "text"
      },
      "source": [
        "<a href=\"https://colab.research.google.com/github/Justin-Bjorn-Sanchez/OOP2-CPE009B-CPE21S1/blob/main/Exercise_7.ipynb\" target=\"_parent\"><img src=\"https://colab.research.google.com/assets/colab-badge.svg\" alt=\"Open In Colab\"/></a>"
      ]
    },
    {
      "cell_type": "code",
      "source": [
        "from tkinter import*\n",
        "\n",
        "class MyWindow:\n",
        "    def __init__(self, win):\n",
        "        #common widgets\n",
        "        self.Label1=Label(win, fg=\"Black\", text=\"Sanchez's Calculator\", bg=\"bisque\", font=(\"Broadway\", 19) )\n",
        "        self.Label1.place(x=60,y=10)\n",
        "\n",
        "        self.Label2=Label(win, text=\"First Number: \", bg=\"bisque\")\n",
        "        self.Label2.place(x=50,y=70)\n",
        "\n",
        "        self.Entry1=Entry(win, bd=5)\n",
        "        self.Entry1.place(x=150,y=70)\n",
        "\n",
        "        self.Label3 = Label(win, text=\"Second Number \", bg=\"bisque\")\n",
        "        self.Label3.place(x=50, y=110)\n",
        "\n",
        "        self.Entry2 = Entry(win, bd=5)\n",
        "        self.Entry2.place(x=150, y=110)\n",
        "\n",
        "        self.Label4 = Label(win, text=\"Result: \", bg=\"bisque\")\n",
        "        self.Label4.place(x=50, y=150)\n",
        "\n",
        "        self.Entry3 = Entry(win, bd=5)\n",
        "        self.Entry3.place(x=150, y=150)\n",
        "\n",
        "        self.Button1=Button(win,fg=\"Black\",text=\"Add\", bg=\"bisque\",command=self.add)\n",
        "        self.Button1.place(x=140,y=230)\n",
        "        self.Button1.bind('<Button-1>',self.add)\n",
        "\n",
        "        self.Button2 = Button(win, fg=\"Black\", text=\"Subtract\", bg=\"bisque\",command=self.subtract)\n",
        "        self.Button2.place(x=130, y=280)\n",
        "\n",
        "        self.Button3 = Button(win, fg=\"Black\", text=\"Multiply\", bg=\"bisque\",command=self.multiply)\n",
        "        self.Button3.place(x=200, y=280)\n",
        "\n",
        "        self.Button4 = Button(win, fg=\"Black\", text=\"Divide\", bg=\"bisque\",command=self.divide)\n",
        "        self.Button4.place(x=200, y=230)\n",
        "\n",
        "        win.config(bg=\"brown\")\n",
        "\n",
        "    def add(self):\n",
        "        self.Entry3.delete(0,'end')\n",
        "        num1=int(self.Entry1.get())\n",
        "        num2=int(self.Entry2.get())\n",
        "        result=num1 + num2\n",
        "        self.Entry3.insert(END,str(result))\n",
        "\n",
        "    def subtract(self):\n",
        "        self.Entry3.delete(0, 'end')\n",
        "        num1 = int(self.Entry1.get())\n",
        "        num2 = int(self.Entry2.get())\n",
        "        result = num1 - num2\n",
        "        self.Entry3.insert(END, str(result))\n",
        "\n",
        "\n",
        "    def multiply(self):\n",
        "        self.Entry3.delete(0, 'end')\n",
        "        num1 = int(self.Entry1.get())\n",
        "        num2 = int(self.Entry2.get())\n",
        "        result = num1 * num2\n",
        "        self.Entry3.insert(END, str(result))\n",
        "\n",
        "\n",
        "    def divide(self):\n",
        "        self.Entry3.delete(0, 'end')\n",
        "        num1 = int(self.Entry1.get())\n",
        "        num2 = int(self.Entry2.get())\n",
        "        result = num1 / num2\n",
        "        self.Entry3.insert(END, str(result))\n",
        "\n",
        "\n",
        "window=Tk(0)\n",
        "MyWin=MyWindow(window)\n",
        "window.geometry(\"400x400+20+20\")\n",
        "window.title(\"Standard Calculator\")\n",
        "window.mainloop()"
      ],
      "metadata": {
        "id": "uzDEAYLLsM5E"
      },
      "execution_count": null,
      "outputs": []
    }
  ]
}
